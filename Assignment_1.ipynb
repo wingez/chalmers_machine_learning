{
 "cells": [
  {
   "cell_type": "markdown",
   "id": "4fcdbc3e",
   "metadata": {},
   "source": [
    "Group nr: 8\n",
    "\n",
    "Name 1 and CID: Jonatan Ornung (ornung)\n",
    "\n",
    "Name 2 and CID: Gustav le Dous (dous)"
   ]
  },
  {
   "cell_type": "code",
   "execution_count": 1,
   "id": "5cc94499",
   "metadata": {},
   "outputs": [
    {
     "ename": "ModuleNotFoundError",
     "evalue": "No module named 'numpy'",
     "output_type": "error",
     "traceback": [
      "\u001b[1;31m---------------------------------------------------------------------------\u001b[0m",
      "\u001b[1;31mModuleNotFoundError\u001b[0m                       Traceback (most recent call last)",
      "Cell \u001b[1;32mIn [1], line 1\u001b[0m\n\u001b[1;32m----> 1\u001b[0m \u001b[38;5;28;01mimport\u001b[39;00m \u001b[38;5;21;01mnumpy\u001b[39;00m \u001b[38;5;28;01mas\u001b[39;00m \u001b[38;5;21;01mnp\u001b[39;00m\n\u001b[0;32m      2\u001b[0m \u001b[38;5;28;01mimport\u001b[39;00m \u001b[38;5;21;01mpygame\u001b[39;00m\n\u001b[0;32m      3\u001b[0m \u001b[38;5;28;01mfrom\u001b[39;00m \u001b[38;5;21;01mIPython\u001b[39;00m\u001b[38;5;21;01m.\u001b[39;00m\u001b[38;5;21;01mdisplay\u001b[39;00m \u001b[38;5;28;01mimport\u001b[39;00m Image\n",
      "\u001b[1;31mModuleNotFoundError\u001b[0m: No module named 'numpy'"
     ]
    }
   ],
   "source": [
    "import numpy as np\n",
    "import pygame\n",
    "from IPython.display import Image\n",
    "from BalanceRobot import BalanceRobot"
   ]
  },
  {
   "cell_type": "markdown",
   "id": "8d0fc495",
   "metadata": {},
   "source": [
    "## Balance robot\n",
    "\n",
    "In this assignment, we will perform parameter estimation on a balancing robot. First, we will show how the equations of motion can be derived, then we will run a control algorithm to balance the robot. While the robot is balancing we will collect data and using this data in a regression problem we will identify some physical properties of the robot. Below we can see a drawing of the robot."
   ]
  },
  {
   "cell_type": "markdown",
   "id": "19f411e7",
   "metadata": {},
   "source": [
    "\n",
    "<img src=\"img/BallanceRobot.png\" width=\"300\"/>"
   ]
  },
  {
   "cell_type": "markdown",
   "id": "f4f01739",
   "metadata": {},
   "source": [
    "| Parameter | Description | To be estimated |\n",
    "| --- | --- | --- |\n",
    "| $m_1$ | Mass of main body | Yes |\n",
    "| $l$ | Distance from wheel hub to $m_1$ | Yes |\n",
    "| $I_1$ | Moment of inertia for main body | Yes |\n",
    "| $m_2$ | Mass of wheels | No |\n",
    "| $r$ | Radious of wheels | No |\n",
    "| $I_2$ | Moment of inertia for of wheels | No |\n",
    "| - | - | - |\n",
    "| $\\alpha_1$ | Angle of main body | |\n",
    "| $\\alpha_2$ | Angle of wheel from position 0 | |\n"
   ]
  },
  {
   "cell_type": "markdown",
   "id": "f63fc6ac",
   "metadata": {},
   "source": [
    "## Equations of motion\n",
    "\n",
    "Here we show one way to calculate the equations of motion for the system. "
   ]
  },
  {
   "cell_type": "markdown",
   "id": "4395c88b",
   "metadata": {},
   "source": [
    "We start with setting up the kinematic relationships. We define $(x_1, y_1)$ to be the position for the centre of mass of the main body and $x_2$ the position of the wheels, both with respect to the coordinate frame. The kinematics equations for the system then become:\n",
    "\n",
    "$x_2 = - \\alpha_2 r$\n",
    "\n",
    "$x_1 = - \\alpha_2 r - l sin(\\alpha_1)$\n",
    "\n",
    "$y_1 = r + l cos(\\alpha_1)$\n",
    "\n",
    "$\\dot{x}_1 = - r \\dot{\\alpha}_2 - l cos(\\alpha_1) \\dot{\\alpha_1}$\n",
    "\n",
    "$\\dot{y}_1 = -l sin(\\alpha_1) \\dot{\\alpha}_1$\n",
    "\n",
    "$\\dot{x}_2 = - r \\dot{\\alpha}_2 $ \n",
    "\n",
    "Potential Energy for the sytstem:\n",
    "\n",
    "$V = l cos(\\alpha_1)m_1g$\n",
    "\n",
    "Kinematic energy:\n",
    "\n",
    "$T = \\frac{1}{2} m_1 (\\dot{x}^2_1 + \\dot{y}^2_1) + \\frac{1}{2} m_2 \\dot{x}^2_2 + \\frac{1}{2} I_1 \\dot{\\alpha}^2_1 + \\frac{1}{2} I_2 \\dot{\\alpha}_2^2$\n",
    "\n",
    "From these the equations of motion for the balance robot can be calculated, here we use the Euler Lagrange method. First the Lagrangian is calculated by: \n",
    "\n",
    "$L = T - V$\n",
    "\n",
    "and becomes:\n",
    "\n",
    "$L = \\frac{1}{2} m_1 (r^2 \\dot{\\alpha}^2_2 + 2 r \\dot{\\alpha}_2 l cos(\\alpha_1) \\dot{\\alpha_1} + l^2  \\dot{\\alpha}_1^2) +\n",
    "\\frac{1}{2} m_2 r^2 \\dot{\\alpha}_2^2 + \\frac{1}{2} I_1 \\dot{\\alpha}^2_1 + \\frac{1}{2} I_2 \\dot{\\alpha}_2^2 -l cos(\\alpha_1)m_1g$"
   ]
  },
  {
   "cell_type": "markdown",
   "id": "b9be77c7",
   "metadata": {},
   "source": [
    "Euler Lagrange equation is defined by: \n",
    "\n",
    "$\\frac{d}{dt}(\\frac{\\partial L }{\\partial \\dot{q}_i}) - \\frac{\\partial L }{\\partial q_i} = Q_i$\n",
    "\n",
    "Where $q_1 = \\alpha_1$, $q_2 = \\alpha_2$ and $Q_i$ reprsents external force and will be torque $M$ generated by the motors. "
   ]
  },
  {
   "cell_type": "markdown",
   "id": "679c5b56",
   "metadata": {},
   "source": [
    "The equations of motion after simplification becomes:\n",
    "\n",
    "$M = m_1 r \\ddot{\\alpha}_2 l cos(\\alpha_1) + m_1 l^2 \\ddot{\\alpha}_1 + I_1 \\ddot{\\alpha}_1  - lsin(\\alpha_1)m_1g$\n",
    "\n",
    "and\n",
    "\n",
    "$-M =  m_1 r^2 \\ddot{\\alpha}_2 + m_1 rlcos(\\alpha_1) \\ddot{\\alpha}_1 - m_1 rlsin(\\alpha_1)\\dot{\\alpha}_1^2 + m_2 r^2 \\ddot{\\alpha}_2 + I_2 \\ddot{\\alpha}_2$"
   ]
  },
  {
   "cell_type": "markdown",
   "id": "55764bea",
   "metadata": {},
   "source": [
    "## Exersise 1:\n",
    "\n",
    "To perform parameter identification with linear regression the equations need to be reformulated to the form $ y = X^T \\theta $ where the vector $\\theta$ will be estimated using regression. There are 3 parameters we want to estimate, $m_1$, $l$ and $I_2$, all other parameters can be assumed to be known. Rewrite the two equations of motion to the form $ y = X^T \\theta $ so that $m_1$, $l$ and $I_2$ can be extracted from $\\theta$. \n",
    "\n",
    "Hint: It might no be possible to linearize equations so that $\\theta$ directly has the paramters $m_1$, $l$, $I_2$ but rather it might contain combinations of the parameters from which we later can calculate the values of $m_1$, $l$, $I_2$. \n"
   ]
  },
  {
   "cell_type": "markdown",
   "id": "eb6300cb",
   "metadata": {},
   "source": [
    "Anwser:\n",
    "\n",
    "$\\left[ \\begin{array}{c}\n",
    " \\\\\n",
    "\\end{array} \\right] = \n",
    "\\left[ \\begin{array}{ccc}\n",
    "  &  &  \\\\\n",
    "   &  &   \\end{array} \\right]\n",
    "\\left[ \\begin{array}{c}\n",
    " \\\\\n",
    "  \\\\\n",
    "\\end{array} \\right]$\n",
    "\n"
   ]
  },
  {
   "cell_type": "markdown",
   "id": "c1020225",
   "metadata": {},
   "source": [
    "## Simulator\n",
    "\n",
    "For those interested the equations of motion are not only interesing for the parameter identification but can also be used to build a simulator for the system. The equations of motion are rewritten to something that is easier to integrate.\n",
    "\n",
    "$ \\ddot{\\alpha}_2   = \\frac{-M -m_1 rlcos(\\alpha_1) (M + lm_1gsin(\\alpha_1)) / (m_1 l^2 + I_1) + m_1 rlsin(\\alpha_1)\\dot{\\alpha}_1^2}{(m_1 r^2  - m_1^2 r^2 l^2 cos^2(\\alpha_1)/ (m_1 l^2 + I_1) + m_2 r^2 + I_2)} $\n",
    "\n",
    "$\\ddot{\\alpha}_1  = (M -  m_1 r \\ddot{\\alpha}_2 l cos(\\alpha_1) + lm_1gsin(\\alpha_1)) / (m_1 l^2 + I_1)$\n",
    "\n",
    "From these equations we can simulate the robot by either integrateing with a fixed time step or use a differential solver e.g. runge-kutta 45.  "
   ]
  },
  {
   "cell_type": "markdown",
   "id": "e08069c5",
   "metadata": {},
   "source": [
    "## Data collection\n",
    "\n",
    "Before we can do any regression on the problem we need to collect data. The data is collected while using a controller that follows a position reference signal. \n"
   ]
  },
  {
   "cell_type": "markdown",
   "id": "2e52c22b",
   "metadata": {},
   "source": [
    "## Exercise 2:\n",
    "For the first test we set the position reference signal to constant e.g $ \\textit{pos_ref} = 0$. But there is one problem with using a constant reference signal. Discuss below why this should give a poor estimation of the parameters. "
   ]
  },
  {
   "cell_type": "markdown",
   "id": "d404cea7",
   "metadata": {},
   "source": [
    "Anwser:\n",
    "\n"
   ]
  },
  {
   "cell_type": "code",
   "execution_count": null,
   "id": "53f2be83",
   "metadata": {},
   "outputs": [],
   "source": [
    "class Controller(object):\n",
    "    def __init__(self, dt, init_states):\n",
    "        self.dt = dt\n",
    "        # controller parameter for position controller\n",
    "        self.K_pos = 3\n",
    "        self.D_pos = 0.5\n",
    "        # controller parameter for angle controller\n",
    "        self.K_ang = 10\n",
    "        self.I_ang = 1\n",
    "        self.D_ang = 1\n",
    "        # limit the maximum allowed reference angle\n",
    "        self.max_angle = 0.8\n",
    "        # variables for the integrator in the PID controller\n",
    "        self.angle_int = 0\n",
    "        self.pre_o1 = init_states['a1']\n",
    "    \n",
    "    def update(self, t, states): \n",
    "        # The update function will be called on every timestep and return the torque for the motors. \n",
    "        # The position reference to follow\n",
    "        pos_ref =  0\n",
    "        # PD controller for position\n",
    "        err = self.K_pos*(pos_ref - states['pos']) - self.D_pos * states['vel']\n",
    "        # The error is used as referece angle, with upper and lower bounds. \n",
    "        ref_ang = -np.clip(err, -self.max_angle, self.max_angle)\n",
    "        self.angle_int += self.dt * (self.pre_o1 - states['a1'])\n",
    "        self.pre_o1 = states['a1']\n",
    "        # PID controller for the angle, generates the desiered motor torque. \n",
    "        M = self.K_ang*(ref_ang-states['a1']) + self.I_ang*self.angle_int - self.D_ang*states['da1']\n",
    "    \n",
    "        return M\n"
   ]
  },
  {
   "cell_type": "markdown",
   "id": "240afced",
   "metadata": {},
   "source": [
    "## Exercise 2:\n",
    "\n",
    "In the code below we have the main loop. Your task is to save the data needed in places marked with TODO. "
   ]
  },
  {
   "cell_type": "code",
   "execution_count": null,
   "id": "79049395",
   "metadata": {},
   "outputs": [],
   "source": [
    "# number of steps and step size to run the simulation/data collection\n",
    "n_steps = 1000\n",
    "step_time = 1e-2\n",
    "\n",
    "# Initiate the robot\n",
    "robot = BalanceRobot(dt=step_time)\n",
    "# True parametes in the robot.\n",
    "g = robot.p[\"g\"] # gravity.\n",
    "r = robot.p[\"r\"] # radious of wheel.\n",
    "m2 = robot.p[\"m2\"] # mass of wheel.\n",
    "I2 = robot.p[\"I2\"] # moment of intertia of wheel.\n",
    "\n",
    "# These parameters should only be used as ground truth\n",
    "I1 = robot.p[\"I1\"] # moment of intertia of main body.\n",
    "m1 = robot.p[\"m1\"] # mass of main body.\n",
    "l =  robot.p[\"l\"] # lenth from wheel hub to center of mass of main body. \n",
    "\n",
    "# Initate the controller \n",
    "state = robot.get_state()\n",
    "controller = Controller(dt=step_time, init_states=state)\n",
    "\n",
    "## TODO: Initilize X^T matrix and Y vector to hold data\n",
    "\n",
    "\n",
    "## scale noise\n",
    "scale_noise = 1\n",
    "\n",
    "\n",
    "## Main loop \n",
    "\n",
    "for i in range(n_steps):\n",
    "    # calculate time\n",
    "    t = i*step_time\n",
    "    # calculate torque \n",
    "    state = robot.get_state()\n",
    "    M = controller.update(t, state)\n",
    "    # step one time step for robot simulation\n",
    "    dda1, dda2 = robot.step(torque=M)\n",
    "    \n",
    "    ## Add noice to data\n",
    "    da1 = state['da1'] + np.random.normal(0.0, scale_noise*0.02) # d/dt alpha 1\n",
    "    a1 = state['a1'] + np.random.normal(0.0, scale_noise*0.03) # alpha 1\n",
    "    da2 = state['da2'] + np.random.normal(0.0, scale_noise*0.02) # d/dt alpha 2\n",
    "    a2 = state['a2'] + np.random.normal(0.0, scale_noise*0.03) # alpha 2\n",
    "    dda1 += np.random.normal(0.0, scale_noise*0.01) # d^2/dt^2 alpha 1\n",
    "    dda2 += np.random.normal(0.0, scale_noise*0.01) # d^2/dt^2 alpha 2\n",
    "    M += np.random.normal(0.0, scale_noise*0.05) # torque \n",
    "    \n",
    "    ## TODO: save the data needed for the regression in exercise 1. \n",
    "    \n",
    "\n",
    "    \n",
    "pygame.quit()"
   ]
  },
  {
   "cell_type": "markdown",
   "id": "4308452a",
   "metadata": {},
   "source": [
    "## Exercise 3: Linear regression \n",
    "\n",
    "Use linear regression to estimate the parameters.  "
   ]
  },
  {
   "cell_type": "code",
   "execution_count": null,
   "id": "1c010497",
   "metadata": {},
   "outputs": [
    {
     "ename": "SyntaxError",
     "evalue": "invalid syntax (891201961.py, line 3)",
     "output_type": "error",
     "traceback": [
      "\u001b[0;36m  Cell \u001b[0;32mIn [4], line 3\u001b[0;36m\u001b[0m\n\u001b[0;31m    est_m1 =\u001b[0m\n\u001b[0m             ^\u001b[0m\n\u001b[0;31mSyntaxError\u001b[0m\u001b[0;31m:\u001b[0m invalid syntax\n"
     ]
    }
   ],
   "source": [
    "#Anwser: \n",
    "\n",
    "est_m1 = \n",
    "est_l =\n",
    "est_I1 = \n",
    "\n",
    "print('Estimated mass = ', np.round(est_m1, 3), ' and true  = ', robot.p['m1'])\n",
    "print('Estimated length = ', np.round(est_l, 3), ' and true value = ', robot.p['l'])\n",
    "print('Estimated moment of inertia = ', np.round(est_I1, 3), ' and true value = ', robot.p['I1'])\n",
    "\n"
   ]
  },
  {
   "cell_type": "markdown",
   "id": "42f72e82",
   "metadata": {},
   "source": [
    "## Exercise 4: Calculate the cost function \n",
    "\n",
    "When solvning the linear regression problem we minimize the cost function. Calculate the value of the cost function on the saved data with the parameters estimated."
   ]
  },
  {
   "cell_type": "code",
   "execution_count": null,
   "id": "910c7320",
   "metadata": {},
   "outputs": [],
   "source": [
    "#Anwser: \n",
    "\n",
    "cost_value = \n",
    "print('cost_value', cost_value)"
   ]
  },
  {
   "cell_type": "markdown",
   "id": "28f26bd4",
   "metadata": {},
   "source": [
    "## Exercise 5: Lets improve the identification  \n",
    "\n",
    "Try to change the position reference signal in the controller, try a few different ones and report the identified parameters and loss value below together with the function used. Only the first line in the controller class in the update function need to be changed. A example could be: pos_ref = 0.2*np.sin(t). \n"
   ]
  },
  {
   "cell_type": "markdown",
   "id": "dbe1b73d",
   "metadata": {},
   "source": [
    "Anwser:\n",
    "\n",
    "| ref signal | cost function value | $m_1$ | l| $I_1$ |\n",
    "| --- | --- | --- | --- | --- |\n",
    "| 0 |  | |  |  | \n",
    "|  |  | |  |  | \n",
    "|  |  | |  |  | \n",
    "|  |  | |  |  | "
   ]
  },
  {
   "cell_type": "markdown",
   "id": "58b5bb13",
   "metadata": {},
   "source": [
    "## Exercise 6: Analyse cost function\n",
    "\n",
    "Why does the cost function value not improve drastically with the better identified parameters?"
   ]
  },
  {
   "cell_type": "markdown",
   "id": "e6f8d3ac",
   "metadata": {},
   "source": [
    "Anwser:\n",
    "\n",
    "\n"
   ]
  },
  {
   "cell_type": "markdown",
   "id": "ce1f4dbf",
   "metadata": {},
   "source": [
    " ## Exercise 7:  Noise"
   ]
  },
  {
   "cell_type": "markdown",
   "id": "357e2eac",
   "metadata": {},
   "source": [
    "Explore how the noise levels added before the data collection affects the identification results and also the value of the cost function. Why is it that the cost function reacts differenlty compared to exersice 5? Use the best performing position reference signal. "
   ]
  },
  {
   "cell_type": "markdown",
   "id": "7964538f",
   "metadata": {},
   "source": [
    "Anwser:\n",
    "\n",
    "\n",
    "| scale_noise | cost function value | $m_1$ | l| $I_1$ |\n",
    "| --- | --- | --- | --- | --- |\n",
    "| 0.1 |  |  |  | | \n",
    "| 0.5 | |  |  | | \n",
    "| 1 | |  |  | | \n",
    "| 2 ||  |  | | \n",
    "| 10 | |  |  | | \n"
   ]
  },
  {
   "cell_type": "markdown",
   "id": "229cd620",
   "metadata": {},
   "source": [
    "## Exersice 8: \n",
    "\n",
    "Using the intuition built from the above exercises, discuss what would be important if you where to use this method on a real world example. "
   ]
  },
  {
   "cell_type": "markdown",
   "id": "daad1442",
   "metadata": {},
   "source": []
  }
 ],
 "metadata": {
  "kernelspec": {
   "display_name": "Python 3 (ipykernel)",
   "language": "python",
   "name": "python3"
  },
  "language_info": {
   "codemirror_mode": {
    "name": "ipython",
    "version": 3
   },
   "file_extension": ".py",
   "mimetype": "text/x-python",
   "name": "python",
   "nbconvert_exporter": "python",
   "pygments_lexer": "ipython3",
   "version": "3.9.7"
  }
 },
 "nbformat": 4,
 "nbformat_minor": 5
}
