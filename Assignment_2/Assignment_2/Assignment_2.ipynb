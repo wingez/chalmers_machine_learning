{
 "cells": [
  {
   "cell_type": "markdown",
   "metadata": {},
   "source": [
    "Group nr:\n",
    "\n",
    "Name 1 and CID: name surname (CID)\n",
    "\n",
    "Name 2 and CID: name surname (CID)"
   ]
  },
  {
   "cell_type": "code",
   "execution_count": 1,
   "metadata": {},
   "outputs": [
    {
     "name": "stdout",
     "output_type": "stream",
     "text": [
      "pygame 2.1.2 (SDL 2.0.18, Python 3.8.5)\n",
      "Hello from the pygame community. https://www.pygame.org/contribute.html\n"
     ]
    }
   ],
   "source": [
    "import numpy as np\n",
    "import copy\n",
    "import random\n",
    "import pandas as pd\n",
    "from collections import Counter\n",
    "from sklearn.model_selection import train_test_split\n",
    "from sklearn.utils import resample\n",
    "from mining_world import Environment\n",
    "from IPython.display import Image\n"
   ]
  },
  {
   "cell_type": "markdown",
   "metadata": {},
   "source": [
    "# Mining world "
   ]
  },
  {
   "cell_type": "markdown",
   "metadata": {},
   "source": [
    "<img src=\"imgs/poster.png\" width=\"800\"/>\n",
    "\n",
    "## Scenario\n",
    "\n",
    "\n",
    "Humanity has now reached a point where we need to extract and refine more Copium, a precious resource with great value. The only problem is that Copium can only be found on certain uninhabitable planets. This of course means that automated robots are sent instead.      \n",
    "\n",
    "Copium is naturally very unstable and is only exists very temporary before it decays. There are very specific geological activities and circumstances needed for copium to form. The life cycle of Copium follows. First, a hot stream of liquid magma flows to the surface, creating a hotspot that that looks like a small creater. At the surface, if the conditions are correct, copium can form during the cool-down period. But as stated previously, Copium is unstable in its natural environment and decays to other materials shortly after. \n",
    "\n",
    "The formation of these deposits creaters are very random, but the heat from them can easilly be detected with a satellite. But there is no way of knowing if the newly formed depoist contains copium from just a satellite, therefor there is a robot rover on the ground with sensors that can collect further measurements. The rover's job is to move to the hotspots and identify if there could be Copium there or not. The rover has many sensors that can measure the properties of the ground below it, but of course, Copium can not directly be detected with these types of sensors. This is where the machine learning approach will be used, to take all those measurements and try to classify if the deposit contains Copium or not.  \n",
    "\n",
    "\n",
    "<img src=\"imgs/overView.png\" width=\"500\"/>\n"
   ]
  },
  {
   "cell_type": "markdown",
   "metadata": {},
   "source": [
    "# The enviornment\n",
    "\n",
    "The enviornment can be initilized like below. For each step a direction is specified (North, South, East, West) for the rover."
   ]
  },
  {
   "cell_type": "markdown",
   "metadata": {},
   "source": [
    "## Actions \n",
    "\n",
    "<img src=\"imgs/actions.png\" width=\"300\"/>\n"
   ]
  },
  {
   "cell_type": "code",
   "execution_count": 2,
   "metadata": {},
   "outputs": [
    {
     "name": "stdout",
     "output_type": "stream",
     "text": [
      "Possible actions ['N', 'S', 'W', 'E']\n"
     ]
    }
   ],
   "source": [
    "env = Environment(map_type=1, fps=5, resolution=(1000, 1000))\n",
    "actions = env.get_action_space()  \n",
    "print('Possible actions', actions)\n",
    "for i in range(20):\n",
    "    env.step(random.choice(actions) )# random action.\n",
    "    env.render() \n",
    "\n",
    "env.exit()\n"
   ]
  },
  {
   "cell_type": "markdown",
   "metadata": {},
   "source": [
    "# Navigation - Tree search\n",
    "\n",
    "This section will show how the naivigation is done. This is not a part of the assignment to understand, but will be used. \n",
    "\n",
    "##  Breadth first\n",
    "\n",
    "The method used is a breadth first search algorithm, it is one of the simplest tree search algorithms and basically tries every option for a fixed number of steps and chooses the best one. "
   ]
  },
  {
   "cell_type": "code",
   "execution_count": 3,
   "metadata": {},
   "outputs": [],
   "source": [
    "class Node():\n",
    "    def __init__(self, actor):\n",
    "        self.actor = actor\n",
    "        self.total_score = 0\n",
    "    \n",
    "    def update(self, action, inherited_score):\n",
    "        score = self.actor.step(action)\n",
    "        self.total_score = 1.05*inherited_score + score\n",
    "        return self.total_score\n",
    "    \n",
    "    def get_score(self):\n",
    "        return self.total_score"
   ]
  },
  {
   "cell_type": "code",
   "execution_count": 4,
   "metadata": {},
   "outputs": [],
   "source": [
    "def breadth_first_search(actor, max_depth, action_space):\n",
    "    node = Node(copy.deepcopy(actor)) \n",
    "    queue_keys = ['0'] # queue to keep track of nodes that has not yet been expanded.  \n",
    "    visited = {queue_keys[0]: node} # saves visited nodes in order to not recalulate the entire path for each step. \n",
    "    \n",
    "    max_score = -np.inf\n",
    "    best_action = None\n",
    "\n",
    "    while True:\n",
    "        key = queue_keys.pop(0)\n",
    "        if len(key) > max_depth: # stop at a set depth \n",
    "            break    \n",
    "        node = visited[key]\n",
    "        \n",
    "        for action in action_space: # expand all children nodes\n",
    "            child_node = copy.deepcopy(node)  # copy current node\n",
    "            score = child_node.update(action=action, inherited_score=node.get_score()) # update node with action\n",
    "            child_key = key + action # create child node key\n",
    "            \n",
    "            if score > max_score: # save best path \n",
    "                max_score = score\n",
    "                best_action = child_key[1]\n",
    "                \n",
    "            visited[child_key] = child_node  # add child node to visited nodes.\n",
    "            queue_keys.append(child_key)  # add child node queue of non expanded nodes. \n",
    "            \n",
    "    return best_action\n"
   ]
  },
  {
   "cell_type": "code",
   "execution_count": 5,
   "metadata": {},
   "outputs": [],
   "source": [
    "env = Environment(map_type=1, fps=10, resolution=(1000, 1000))\n",
    "\n",
    "for i in range(100):\n",
    "    action = breadth_first_search(actor=env.get_actor(), max_depth=3, action_space=env.get_action_space())\n",
    "    env.step(action)\n",
    "    env.render()\n",
    "for i in range(5):\n",
    "    from IPython.display import Audio, display\n",
    "    a= Audio(url='https://www.soundjay.com/buttons/beep-10.wav', autoplay=True)\n",
    "    display(a)\n",
    "    import time\n",
    "    time.sleep(0.5)\n",
    "\n",
    "env.exit()"
   ]
  },
  {
   "cell_type": "markdown",
   "metadata": {},
   "source": [
    "# Exersice 1: Collect data\n",
    "The first step is to collect some data that will be used for training and validation. The available types features can be seen with env.get_sensor_properties() and the actual measurements can be retrieved with env.get_sensor_readings(). It will return a dictionary with the same keys as in env.get_sensor_properties() containg a value for each feature. If the robot is not currently over a deposit, then it will return None. The label can be extracted with env.get_ground_truth(), which will return a 1 if there is copium in the deposit and 0 if not. \n",
    "  "
   ]
  },
  {
   "cell_type": "code",
   "execution_count": 6,
   "metadata": {},
   "outputs": [
    {
     "name": "stdout",
     "output_type": "stream",
     "text": [
      "Sensor properties ['ground_density', 'moist', 'reflectivity', 'silicon_rate', 'oxygen_rate', 'iron_rate', 'aluminium_rate', 'magnesium_rate', 'undetectable']\n"
     ]
    }
   ],
   "source": [
    "sensor_properties = env.get_sensor_properties()\n",
    "print('Sensor properties', sensor_properties)\n"
   ]
  },
  {
   "cell_type": "markdown",
   "metadata": {},
   "source": [
    "The exersice is then to append the sensor readings to the cooresponing feature in the data dictionary and if there is copium or not.  "
   ]
  },
  {
   "cell_type": "code",
   "execution_count": 7,
   "metadata": {},
   "outputs": [],
   "source": [
    "env = Environment(map_type=1, fps=500, resolution=(1000, 1000))\n",
    "sensor_properties = env.get_sensor_properties()\n",
    "\n",
    "# We can initilize the dictionary the following way.\n",
    "data = dict()\n",
    "data['copium'] = [] \n",
    "for key in sensor_properties:\n",
    "    data[key] = []\n",
    "    \n",
    "for i in range(5000):\n",
    "    action = breadth_first_search(actor=env.get_actor(), max_depth=3, action_space=env.get_action_space())\n",
    "    env.step(action)\n",
    "    # if we are over a deposit. \n",
    "    if env.get_sensor_readings() is not None:\n",
    "        sensor_readings = env.get_sensor_readings()\n",
    "        copium = env.get_ground_truth()\n",
    "        \n",
    "        # TODO: Append the sensor readings and copium to the data dictionary\n",
    "        for s in sensor_readings:\n",
    "            data[s].append(sensor_readings[s])\n",
    "        data['copium'].append(copium)\n",
    "        \n",
    "        \n",
    "    env.render()\n",
    "\n",
    "env.exit()\n"
   ]
  },
  {
   "cell_type": "markdown",
   "metadata": {},
   "source": [
    "# Exerscie 2: Data structure"
   ]
  },
  {
   "cell_type": "markdown",
   "metadata": {},
   "source": [
    "## a) Pandas data frame \n",
    "In this assignment we will work pandas data frame for storing the collected data. First create a pandas data frame from the dictionary. The documentation for it can be found at https://pandas.pydata.org/docs/reference/api/pandas.DataFrame.html, only the data feild needs to be filled in with the created dictionary. Call this data frame df. \n"
   ]
  },
  {
   "cell_type": "code",
   "execution_count": 12,
   "metadata": {},
   "outputs": [
    {
     "name": "stdout",
     "output_type": "stream",
     "text": [
      "      copium  ground_density     moist  reflectivity  silicon_rate  \\\n",
      "0          0        2.666522  0.045602      0.384550      0.187698   \n",
      "1          0        0.769702  0.176215      0.490690      0.028984   \n",
      "2          0        1.385580  0.101586      0.376211      0.166860   \n",
      "3          0        1.429156  0.019046      0.002554      0.156967   \n",
      "4          0        1.986845  0.201565      0.418697      0.217631   \n",
      "...      ...             ...       ...           ...           ...   \n",
      "1607       0        1.000437  0.006002      0.083264      0.127822   \n",
      "1608       0        0.878844  0.247539      0.342075      0.041062   \n",
      "1609       0        0.996312  0.296948      0.436810      0.085910   \n",
      "1610       0        1.955849  0.214303      0.495209      0.204168   \n",
      "1611       0        0.990104  0.209493      0.097267      0.024434   \n",
      "\n",
      "      oxygen_rate  iron_rate  aluminium_rate  magnesium_rate  undetectable  \n",
      "0        0.057350   0.504726        0.177354        0.048972      0.023900  \n",
      "1        0.028120   0.420150        0.346574        0.138930      0.037241  \n",
      "2        0.022969   0.535421        0.123587        0.133231      0.017932  \n",
      "3        0.098023   0.524712        0.148386        0.038457      0.033455  \n",
      "4        0.049260   0.568805        0.071788        0.046752      0.045763  \n",
      "...           ...        ...             ...             ...           ...  \n",
      "1607     0.022064   0.423707        0.243948        0.170761      0.011697  \n",
      "1608     0.037767   0.535139        0.304476        0.034448      0.047108  \n",
      "1609     0.058145   0.421345        0.357248        0.043340      0.034013  \n",
      "1610     0.021703   0.496251        0.195415        0.021998      0.060465  \n",
      "1611     0.023512   0.539604        0.223078        0.124635      0.064737  \n",
      "\n",
      "[1612 rows x 10 columns]\n"
     ]
    }
   ],
   "source": [
    "# TODO: create pandas dataframe\n",
    "df = pd.DataFrame(data)\n",
    "print(df)"
   ]
  },
  {
   "cell_type": "code",
   "execution_count": 13,
   "metadata": {},
   "outputs": [
    {
     "name": "stdout",
     "output_type": "stream",
     "text": [
      "All data for a feature \n",
      " 0       0\n",
      "1       0\n",
      "2       0\n",
      "3       0\n",
      "4       0\n",
      "       ..\n",
      "1607    0\n",
      "1608    0\n",
      "1609    0\n",
      "1610    0\n",
      "1611    0\n",
      "Name: copium, Length: 1612, dtype: int64\n",
      "\n",
      "Single sample from index \n",
      " copium            0.000000\n",
      "ground_density    0.769702\n",
      "moist             0.176215\n",
      "reflectivity      0.490690\n",
      "silicon_rate      0.028984\n",
      "oxygen_rate       0.028120\n",
      "iron_rate         0.420150\n",
      "aluminium_rate    0.346574\n",
      "magnesium_rate    0.138930\n",
      "undetectable      0.037241\n",
      "Name: 1, dtype: float64\n",
      "\n",
      "All features without copium \n",
      "       ground_density     moist  reflectivity  silicon_rate  oxygen_rate  \\\n",
      "0           2.666522  0.045602      0.384550      0.187698     0.057350   \n",
      "1           0.769702  0.176215      0.490690      0.028984     0.028120   \n",
      "2           1.385580  0.101586      0.376211      0.166860     0.022969   \n",
      "3           1.429156  0.019046      0.002554      0.156967     0.098023   \n",
      "4           1.986845  0.201565      0.418697      0.217631     0.049260   \n",
      "...              ...       ...           ...           ...          ...   \n",
      "1607        1.000437  0.006002      0.083264      0.127822     0.022064   \n",
      "1608        0.878844  0.247539      0.342075      0.041062     0.037767   \n",
      "1609        0.996312  0.296948      0.436810      0.085910     0.058145   \n",
      "1610        1.955849  0.214303      0.495209      0.204168     0.021703   \n",
      "1611        0.990104  0.209493      0.097267      0.024434     0.023512   \n",
      "\n",
      "      iron_rate  aluminium_rate  magnesium_rate  undetectable  \n",
      "0      0.504726        0.177354        0.048972      0.023900  \n",
      "1      0.420150        0.346574        0.138930      0.037241  \n",
      "2      0.535421        0.123587        0.133231      0.017932  \n",
      "3      0.524712        0.148386        0.038457      0.033455  \n",
      "4      0.568805        0.071788        0.046752      0.045763  \n",
      "...         ...             ...             ...           ...  \n",
      "1607   0.423707        0.243948        0.170761      0.011697  \n",
      "1608   0.535139        0.304476        0.034448      0.047108  \n",
      "1609   0.421345        0.357248        0.043340      0.034013  \n",
      "1610   0.496251        0.195415        0.021998      0.060465  \n",
      "1611   0.539604        0.223078        0.124635      0.064737  \n",
      "\n",
      "[1612 rows x 9 columns]\n"
     ]
    }
   ],
   "source": [
    "# From the data frame you can access all data for a key with for example:\n",
    "print(\"All data for a feature \\n\", df[\"copium\"])\n",
    "print()\n",
    "\n",
    "# You can access a single sample with:\n",
    "print(\"Single sample from index \\n\", df.iloc[1])\n",
    "print()\n",
    "\n",
    "# You can access all freatures but one with:\n",
    "all_features_without_copium = df.drop(columns='copium')\n",
    "print(\"All features without copium \\n\", all_features_without_copium)"
   ]
  },
  {
   "cell_type": "markdown",
   "metadata": {},
   "source": [
    "## b) Part 1: Analyse data balance\n",
    "\n",
    "The occurance can be retrevied with .value_counts() from a pandas date frame. Here get the occurance of copium in the samples. Is the dataset balanced?\n",
    "\n",
    "Answer: No, as can be seen below"
   ]
  },
  {
   "cell_type": "code",
   "execution_count": 14,
   "metadata": {},
   "outputs": [
    {
     "name": "stdout",
     "output_type": "stream",
     "text": [
      "250\n",
      "1362\n"
     ]
    }
   ],
   "source": [
    "# TODO: Get number of samples with copium and the number of samples without copium.\n",
    "with_copium = len(df[df['copium'] > 0])\n",
    "no_copium = len(df[df['copium'] == 0])\n",
    "\n",
    "print(with_copium)\n",
    "print(no_copium)\n",
    "\n"
   ]
  },
  {
   "cell_type": "markdown",
   "metadata": {},
   "source": [
    "## b) Part 2: Balance data, do this exercise later! \n",
    "\n",
    "We have seen what happens with unbalanced data, now try to balance the data set. You will also need to change in ex c) so that it uses the balanced data. We show how it can be done for downsampling the one that is more common, in a similar way your job is to instead create an upsampled balanced data set. You only need to use the upsampled data set for the rest of the other part 2) exerices. \n",
    "\n",
    "What could be the reason for choosing one of these over the other?\n",
    "\n",
    "Answer: Upsampling does not loose information which is safer. Downsampling may loose information, but it is more computationally efficient."
   ]
  },
  {
   "cell_type": "code",
   "execution_count": 44,
   "metadata": {},
   "outputs": [
    {
     "name": "stdout",
     "output_type": "stream",
     "text": [
      "      copium  ground_density     moist  reflectivity  silicon_rate  \\\n",
      "0          0        2.666522  0.045602      0.384550      0.187698   \n",
      "1          0        0.769702  0.176215      0.490690      0.028984   \n",
      "2          0        1.385580  0.101586      0.376211      0.166860   \n",
      "3          0        1.429156  0.019046      0.002554      0.156967   \n",
      "4          0        1.986845  0.201565      0.418697      0.217631   \n",
      "...      ...             ...       ...           ...           ...   \n",
      "1513       1        0.431363  0.237677      0.137163      0.019580   \n",
      "956        1        1.193970  0.070942      0.061355      0.062509   \n",
      "1535       1        2.589585  0.247910      0.083046      0.068830   \n",
      "1377       1        0.700165  0.147217      0.219150      0.321014   \n",
      "929        1        1.067070  0.000231      0.531134      0.395678   \n",
      "\n",
      "      oxygen_rate  iron_rate  aluminium_rate  magnesium_rate  undetectable  \n",
      "0        0.057350   0.504726        0.177354        0.048972      0.023900  \n",
      "1        0.028120   0.420150        0.346574        0.138930      0.037241  \n",
      "2        0.022969   0.535421        0.123587        0.133231      0.017932  \n",
      "3        0.098023   0.524712        0.148386        0.038457      0.033455  \n",
      "4        0.049260   0.568805        0.071788        0.046752      0.045763  \n",
      "...           ...        ...             ...             ...           ...  \n",
      "1513     0.045895   0.389532        0.361951        0.130714      0.052327  \n",
      "956      0.108056   0.285796        0.312467        0.124333      0.106839  \n",
      "1535     0.084255   0.572635        0.081852        0.131842      0.060587  \n",
      "1377     0.006736   0.535169        0.044286        0.080090      0.012705  \n",
      "929      0.011583   0.308412        0.129222        0.040635      0.114470  \n",
      "\n",
      "[2724 rows x 10 columns]\n"
     ]
    }
   ],
   "source": [
    "# TODO balance data det. \n",
    "# step 1: seperate the data into something that contains copium and one that doesn't,\n",
    "# can for example be done with df[df[\"copium\"]==0] etc.\n",
    "df_zero = df[df[\"copium\"]==0]\n",
    "df_one = df[df[\"copium\"]==1]\n",
    "\n",
    "# downsample majority\n",
    "df_zero_downsampled = resample(df_zero,\n",
    "                               n_samples=df_one.shape[0])\n",
    "\n",
    "df_balanced_downsampled = pd.concat([df_one, df_zero_downsampled])\n",
    "\n",
    "# TODO: upsample minority \n",
    "df_one_upsampled = resample(df_one,\n",
    "                               n_samples=df_zero.shape[0])\n",
    "\n",
    "df_balanced_upsampled = pd.concat([df_zero, df_one_upsampled])\n",
    "\n"
   ]
  },
  {
   "cell_type": "markdown",
   "metadata": {},
   "source": [
    "## c ) Split data\n",
    "\n",
    "Here we will devide the data into a training set and a test set. Good rule of thumb is to use 80% of the data in the training set and 20 % in the test set. The the two data sets should be randomly sampled (shuffle). This is done with train_test_split() from sklearn, https://scikit-learn.org/stable/modules/generated/sklearn.model_selection.train_test_split.html. The syntax looks like \n",
    "\n",
    "train, test = train_test_split(dataframe, test_size=ratio_test_set, shuffle=True)\n",
    "\n",
    "Why is it important that the data is shuffled when it is split, what could happen otherwise?\n",
    "\n",
    "Answer: There might be patterns in the data, by shuffling we eleminate those patterns. Make sure the test sample is representative of the entire dataset.\n",
    "\n"
   ]
  },
  {
   "cell_type": "code",
   "execution_count": 45,
   "metadata": {},
   "outputs": [],
   "source": [
    "# TODO: devide the data into train and test set. \n",
    "train, test = train_test_split(df_balanced_upsampled, test_size=0.2, shuffle=True)\n",
    "                                #df\n"
   ]
  },
  {
   "cell_type": "markdown",
   "metadata": {},
   "source": [
    "# Exercise 3: Performance evaluation\n",
    "\n",
    "Here we will define a class that later will be used for evaluation the performance of the classification models. More information about precision and recall can be found at https://en.wikipedia.org/wiki/Precision_and_recall. \n",
    "\n",
    "Explain why the different metics are usefull, why is not always accuarcy enough?\n",
    "\n",
    "Answer: Precision and recall is important because it takes false positives into account, which we would like to avoid. \n"
   ]
  },
  {
   "cell_type": "code",
   "execution_count": 46,
   "metadata": {},
   "outputs": [],
   "source": [
    "class Classification_eval(object):\n",
    "    def __init__(self):\n",
    "        # counters \n",
    "        self.TP = 0 # correctly identified positive \n",
    "        self.FP = 0 # falsely identified positive \n",
    "        self.TN = 0 # correctly identified negative \n",
    "        self.FN = 0 # falsely identified negative \n",
    "    \n",
    "    def update(self, pred, label):\n",
    "        \"\"\"\n",
    "        pred - is the prediction will be either a 1 or 0. \n",
    "        label - is the correct answer, will be either a 1 or 0.\n",
    "        \"\"\"\n",
    "        # TODO: add to one of the counters each time this function is called. \n",
    "        if pred == label:\n",
    "            if pred == 1:\n",
    "                self.TP += 1\n",
    "            else:\n",
    "                self.TN += 1\n",
    "        else:\n",
    "            if pred == 1:\n",
    "                self.FP += 1\n",
    "            else: \n",
    "                self.FN += 1\n",
    "\n",
    "    \n",
    "    def accuracy(self): \n",
    "        # returns the accuracy \n",
    "        if (self.TP + self.TN) == 0:\n",
    "            return 0\n",
    "        # TODO: calculate the accuracy.\n",
    "        accuracy = (self.TP + self.TN)/(self.TP + self.TN + self.FP + self.FN)\n",
    "        return np.round(accuracy, 4)\n",
    "    \n",
    "    def precision(self): # percentage of the estimated positive that actually is positive\n",
    "        if self.TP == 0:\n",
    "            return 0\n",
    "        # TODO: calculate the precision.\n",
    "        precision = (self.TP/(self.TP + self.FP))\n",
    "        return np.round(precision, 4)\n",
    "    \n",
    "    def recall(self): # percentage of correctly identified positive of the total positive\n",
    "        if self.TP == 0:\n",
    "            return 0\n",
    "        # TODO: calculate the recall.\n",
    "        recall = (self.TP/(self.TP + self.FN))\n",
    "        return np.round(recall, 4)"
   ]
  },
  {
   "cell_type": "markdown",
   "metadata": {},
   "source": [
    "# Exercise 4: K- nearest neighbours\n",
    "\n",
    "## a) Normalize\n",
    "\n",
    "Here we will code our K-NN classifier, method 2.1 on page 21 in the book has the psudo code for K-NN. We will start with the data normalization, i.e. we will normalize the input data so that each feature has the same range in terms of max/min values. The min value can be found with data.min(), similarly for the max value. \n",
    "\n",
    "Why is it important that the data is normalized for the K-NN algorithm?\n",
    "\n",
    "Answer: It is because if one variable varies between 0-1 and another 0-10, K-NN will mostly use the later since it uses the total distance which is much greater for the later variable.\n"
   ]
  },
  {
   "cell_type": "code",
   "execution_count": 47,
   "metadata": {},
   "outputs": [],
   "source": [
    "class Normalize(object):\n",
    "    def __init__(self):\n",
    "        self.min = None\n",
    "        self.max = None\n",
    "    \n",
    "    def normalize(self, data):\n",
    "        # normalize the data and return it. \n",
    "        return (data-self.min)/(self.max-self.min)\n",
    "    \n",
    "    def update_normalization(self, data):\n",
    "        # Save the min and max values for each feature. This funciton is only used for the training data.\n",
    "        self.min = data.min()\n",
    "        self.max = data.max()\n",
    "    "
   ]
  },
  {
   "cell_type": "markdown",
   "metadata": {},
   "source": [
    "## b) K-NN\n",
    "Lets make the K-NN algorithm, fill in the TODO."
   ]
  },
  {
   "cell_type": "code",
   "execution_count": 48,
   "metadata": {},
   "outputs": [],
   "source": [
    "\n",
    "class KNN(object):\n",
    "    def __init__(self, k):\n",
    "        self.features = None # normalized features from training data \n",
    "        self.labels = None # the corresponding labels (if there is copium)\n",
    "        self.normalize = Normalize() # class instance for normalization\n",
    "        self.k = k # the k value in k-nn algorithm.\n",
    "        \n",
    "    def fit(self, features, labels):\n",
    "        # This is where we save the training data. \n",
    "        # TODO: update the normalize filter, normalize the features (save to self.features)\n",
    "        # and save the labels to self.labels\n",
    "        self.normalize.update_normalization(features)\n",
    "        \n",
    "        self.features = self.normalize.normalize(features)\n",
    "        self.labels = labels\n",
    "    \n",
    "    def predict(self, features):\n",
    "        # here we get one sample to make a predicion \n",
    "        # TODO normalize the input features. \n",
    "        features_norm = self.normalize.normalize(features)\n",
    "        \n",
    "        # TODO, loop through all points in the previously saved features and save \n",
    "        # the labels for the k points with the smallest distance to the normalized \n",
    "        # input features in a list, call this list list_prediction. It could for example be inilized with\n",
    "        # list_prediction = [0]*self.k \n",
    "        #list_prediction = [0]*self.k\n",
    "        \n",
    "        # lists to hold k nearest points\n",
    "        list_dist = np.ones(self.k)*np.inf\n",
    "        list_prediction = np.zeros(self.k)\n",
    "\n",
    "        # find k nearest points\n",
    "        for i in range(train.shape[0]):\n",
    "            dist = np.linalg.norm(self.features.iloc[i] - features_norm)\n",
    "            if dist < np.max(list_dist):\n",
    "                idx = np.argmax(list_dist)\n",
    "                list_dist[idx] = dist\n",
    "                list_prediction[idx] = self.labels.iloc[i]\n",
    "\n",
    "\n",
    "        return self.majority_vote(list_prediction)\n",
    "    \n",
    "    def majority_vote(self, pred_list):\n",
    "        # Here is a function that will return the majority vote from a list. \n",
    "        keys = list(Counter(pred_list).keys())\n",
    "        occurance = list(Counter(pred_list).values())\n",
    "        idx = np.argmax(occurance)\n",
    "        return keys[idx]\n",
    "        \n"
   ]
  },
  {
   "cell_type": "markdown",
   "metadata": {},
   "source": [
    "## c) part 1: Evaluate the K-NN \n",
    "Evaluate the K-NN and choose a suitable k value. "
   ]
  },
  {
   "cell_type": "code",
   "execution_count": 53,
   "metadata": {},
   "outputs": [
    {
     "data": {
      "text/html": [
       "\n",
       "                <audio  controls=\"controls\" autoplay=\"autoplay\">\n",
       "                    <source src=\"https://www.soundjay.com/buttons/beep-10.wav\" type=\"audio/wav\" />\n",
       "                    Your browser does not support the audio element.\n",
       "                </audio>\n",
       "              "
      ],
      "text/plain": [
       "<IPython.lib.display.Audio object>"
      ]
     },
     "metadata": {},
     "output_type": "display_data"
    },
    {
     "data": {
      "text/html": [
       "\n",
       "                <audio  controls=\"controls\" autoplay=\"autoplay\">\n",
       "                    <source src=\"https://www.soundjay.com/buttons/beep-10.wav\" type=\"audio/wav\" />\n",
       "                    Your browser does not support the audio element.\n",
       "                </audio>\n",
       "              "
      ],
      "text/plain": [
       "<IPython.lib.display.Audio object>"
      ]
     },
     "metadata": {},
     "output_type": "display_data"
    },
    {
     "data": {
      "text/html": [
       "\n",
       "                <audio  controls=\"controls\" autoplay=\"autoplay\">\n",
       "                    <source src=\"https://www.soundjay.com/buttons/beep-10.wav\" type=\"audio/wav\" />\n",
       "                    Your browser does not support the audio element.\n",
       "                </audio>\n",
       "              "
      ],
      "text/plain": [
       "<IPython.lib.display.Audio object>"
      ]
     },
     "metadata": {},
     "output_type": "display_data"
    },
    {
     "data": {
      "text/html": [
       "\n",
       "                <audio  controls=\"controls\" autoplay=\"autoplay\">\n",
       "                    <source src=\"https://www.soundjay.com/buttons/beep-10.wav\" type=\"audio/wav\" />\n",
       "                    Your browser does not support the audio element.\n",
       "                </audio>\n",
       "              "
      ],
      "text/plain": [
       "<IPython.lib.display.Audio object>"
      ]
     },
     "metadata": {},
     "output_type": "display_data"
    },
    {
     "data": {
      "text/html": [
       "\n",
       "                <audio  controls=\"controls\" autoplay=\"autoplay\">\n",
       "                    <source src=\"https://www.soundjay.com/buttons/beep-10.wav\" type=\"audio/wav\" />\n",
       "                    Your browser does not support the audio element.\n",
       "                </audio>\n",
       "              "
      ],
      "text/plain": [
       "<IPython.lib.display.Audio object>"
      ]
     },
     "metadata": {},
     "output_type": "display_data"
    },
    {
     "name": "stdout",
     "output_type": "stream",
     "text": [
      "Accuarcy 0.9761\n",
      "Precision 0.9652\n",
      "Recall 0.9893\n"
     ]
    }
   ],
   "source": [
    "train_labels = train['copium']\n",
    "train_features = train.drop(columns='copium')\n",
    "\n",
    "y = test['copium']\n",
    "x = test.drop(columns='copium')\n",
    "\n",
    "# TODO, try differenent values of k. \n",
    "knn = KNN(k=1)\n",
    "knn.fit(train_features, train_labels)\n",
    "\n",
    "log = Classification_eval()\n",
    "for i in range(x.shape[0]):\n",
    "    pred = knn.predict(x.iloc[i])\n",
    "    log.update(pred, y.iloc[i])\n",
    "for i in range(5):\n",
    "    from IPython.display import Audio, display\n",
    "    a= Audio(url='https://www.soundjay.com/buttons/beep-10.wav', autoplay=True)\n",
    "    display(a)\n",
    "    import time\n",
    "    time.sleep(0.5)\n",
    "\n",
    "print('Accuarcy', log.accuracy())\n",
    "print('Precision', log.precision())\n",
    "print('Recall', log.recall())\n"
   ]
  },
  {
   "cell_type": "markdown",
   "metadata": {},
   "source": [
    "\n",
    "Try some differnet values of k and just looking at these resutlts would the klassifier work well for all k? \n",
    "\n",
    "Answer: No, for k = 1 the precition is really bad. Precision 0.52 is basically a coinflip.\n",
    "\n",
    "| k | Accuracy | Precision | Recall | \n",
    "| --- | --- | --- | --- |\n",
    "| 1 | 0.8531 |0.5294 | 0.3673 |  \n",
    "| 5 | 0.8656 | 0.8| 0.1633 |   \n",
    "| 20 | 0.8531 |1.0 | 0.0408 |   \n",
    "| 50 | 0.8359 | 1 | 0.0702 |   "
   ]
  },
  {
   "cell_type": "markdown",
   "metadata": {},
   "source": [
    "## c) part 2, do later!\n",
    "Now we have balanced data, try the same k values as in part 1. Have the results changed since ex 4 c) part 1? Would this klassifier work better? \n",
    "\n",
    "Answer: Yes, this classsifier is noticeably better. The precicion is noticeably improved for small values of k. The accuracy is also better across the board.\n",
    "\n",
    "| k | Accuracy | Precision | Recall | \n",
    "| --- | --- | --- | --- |\n",
    "| 1 | 0.9761 |0.9652 | 0.9893 |  \n",
    "| 5 | 0.9138 | 0.8845 | 0.9571 |   \n",
    "| 20 | 0.8697 | 0.9098 |0.8286 |   \n",
    "| 50 | 0.844 | 0.9079 | 0.775| "
   ]
  },
  {
   "cell_type": "markdown",
   "metadata": {},
   "source": [
    "# Exercise 5: Learn tree based classifier\n",
    "\n",
    "Here we will code our tree based classifier. We will start with coding a function that can find the best (according to gini) spliting point for a given data set and then define a recursive class for the Nodes that will make up our tree. \n",
    "\n",
    "## a) Find split point\n",
    "\n",
    "The first step is to define a function that can find the splitting criteria with the highest gini value. \n",
    "\n",
    "The gini value can be described as:\n",
    "\n",
    "If $\\Gamma$ contains the set of all labeles, then $\\Gamma(x_1 < 1)$ would be all labels that belong to the criteria $x_1 < 1$, more generally we could say $\\Gamma(x_i < c)$, where i is the index of one of the features and c is the criteria. Then we can define:\n",
    "\n",
    "$v_1 = mean(\\Gamma(x_i < c))$\n",
    "\n",
    "$v_2 = mean(\\Gamma(x_i \\geq c))$\n",
    "\n",
    "$s_1 = v_1^2 + (1-v_1)^2$\n",
    "\n",
    "$s_2 = v_2^2 + (1-v_2)^2$\n",
    "\n",
    "We define len(x) to give the number of elements of x, then the weighted gini value is:\n",
    "\n",
    "$s = \\frac{len(\\Gamma(x_i < c))}{len(\\Gamma)}*s_1 + \\frac{len(\\Gamma(x_i \\geq c))}{len(\\Gamma)}*s_2$\n",
    "\n",
    "The goal is to split the data so we maximizes $s$, there will be one $s$ for every combination of $x_i$ and $c$. Here we will use a c value that is the average between two data points that are sorted. "
   ]
  },
  {
   "cell_type": "code",
   "execution_count": 21,
   "metadata": {},
   "outputs": [
    {
     "name": "stdout",
     "output_type": "stream",
     "text": [
      "<class 'numpy.float64'>\n"
     ]
    },
    {
     "data": {
      "text/html": [
       "\n",
       "                <audio  controls=\"controls\" autoplay=\"autoplay\">\n",
       "                    <source src=\"https://www.soundjay.com/buttons/beep-10.wav\" type=\"audio/wav\" />\n",
       "                    Your browser does not support the audio element.\n",
       "                </audio>\n",
       "              "
      ],
      "text/plain": [
       "<IPython.lib.display.Audio object>"
      ]
     },
     "execution_count": 21,
     "metadata": {},
     "output_type": "execute_result"
    }
   ],
   "source": [
    "\n",
    "\n",
    "def find_split_point(data, label, parameter):\n",
    "    \"\"\"\n",
    "    data - all the data we want to split, our (gamma)\n",
    "    label - the parameter we want to classify. \n",
    "    parameter - the parameter we want to check for, our x_i\n",
    "    -----------\n",
    "    retrun:\n",
    "    split_value - the spliting value, our c. \n",
    "    gini_value - the gini value for the best c.\n",
    "    df_head - the data frame belonging to x_i < c\n",
    "    df_tail - the data frame belonging to x_i => c\n",
    "    \"\"\"\n",
    "    # beging by sorting the data after the paramter. \n",
    "    sorted_data = data.sort_values(by=parameter)\n",
    "    sorted_label = sorted_data[label]\n",
    "    # TODO loop through all the split points in the sorted data and find \n",
    "    # the best gini_value (s) and split_value (c).  \n",
    "    \n",
    "    gini_value = 0         \n",
    "    split_value = 0\n",
    "    df_head = 0\n",
    "    df_tail = 0\n",
    "    \n",
    "    for i in range(len(data)):\n",
    "        head = sorted_data[:i]\n",
    "        tail = sorted_data[i:]\n",
    "        \n",
    "        v1 = head[label].mean()\n",
    "        v2 = tail[label].mean()\n",
    "        s1 = v1**2+(1-v1)**2\n",
    "        s2 = v2**2+(1-v2)**2\n",
    "        s = len(head)*s1/len(sorted_data) + len(tail)*s2/len(sorted_data) \n",
    "        \n",
    "        if s > gini_value:\n",
    "            gini_value = s\n",
    "            split_value =sorted_data[i:i+1][parameter].iloc[0]\n",
    "            df_head = head\n",
    "            df_tail=tail\n",
    "    # TODO: get the two data frames the corresponds to the split data. \n",
    "    # the functions .head(split_index) and .tail(split_index) could be useful. \n",
    "    \n",
    "    \n",
    "    return split_value, gini_value, df_head, df_tail\n",
    "from IPython.display import Audio, display\n",
    "Audio(url='https://www.soundjay.com/buttons/beep-10.wav', autoplay=True)\n"
   ]
  },
  {
   "cell_type": "markdown",
   "metadata": {},
   "source": [
    "## b) Tree Node\n",
    "\n"
   ]
  },
  {
   "cell_type": "code",
   "execution_count": 54,
   "metadata": {},
   "outputs": [],
   "source": [
    "class TreeNode():\n",
    "    def __init__(self, classification=None):\n",
    "        self.split_value = None # the splitting value (c)\n",
    "        self.split_parameter = None # what feature where uesd for the split (x_i)\n",
    "        self.child_nodes = [] # list that contains two child nodes, if not leaf_node\n",
    "        self.leaf_node = 0 # is this leaf_node (0= no, 1=yes)\n",
    "        self.classification = classification # classification made in this node.\n",
    "        \n",
    "    def predict(self, data):\n",
    "        # TODO: we need to traverse the tree recursivly down to a leaf node.\n",
    "        # step 1: check if this is a leaf node, if it is then return classification otherwise contine with step 2.\n",
    "        if self.leaf_node==1:\n",
    "            return self.classification\n",
    "        \n",
    "        # step 2: check the input data for the splitting criteria, i.e. data[x_i] < c ...\n",
    "        # (data[x_i] < c would corresponds to child_node[0] and data[x_i] => c to child_node[1])\n",
    "        # step 3: call the predict function in the corresponding child_node and return the prediction. \n",
    "        if data[self.split_parameter] < self.split_value:\n",
    "            return self.child_nodes[0].predict(data)\n",
    "        else:\n",
    "            return self.child_nodes[1].predict(data)\n",
    "        \n",
    "        \n",
    "        \n",
    "            \n",
    "    def learn(self, data, label, min_node_size):\n",
    "        \"\"\"\n",
    "        data - the training data\n",
    "        label - the parameter we want to classify\n",
    "        min_node_size - number of data points in a node for it to become a leaf node. \n",
    "        \"\"\" \n",
    "        # TODO: write the learning function. \n",
    "        # Step 1: check if the data fullfils the min_node_size criteria, if so make this node a leaf node and return.\n",
    "        if len(data)<= min_node_size:\n",
    "            self.leaf_node = 1\n",
    "            self.classification = self.majority_vote(data[label])\n",
    "            return\n",
    "        \n",
    "        # Step 1.5: Check if the data is homogenious i.e. only contains one type for the labels, if thats\n",
    "        # the case then make this node a leaf node and return.\n",
    "        all_should_match = data[0:1][label].iloc[0]\n",
    "        all_matches = True\n",
    "        for i in range(len(data)):\n",
    "            value = data[i:i+1][label].iloc[0]\n",
    "            if value != all_should_match:\n",
    "                all_matches = False\n",
    "                break\n",
    "        \n",
    "        if all_matches:\n",
    "            self.leaf_node = 1\n",
    "            self.classification = self.majority_vote(data[label])\n",
    "            return\n",
    "    \n",
    "    \n",
    "        # Step 2: Loop over all features and get the best gini and split_value for each feature. \n",
    "        features = list(data.columns)\n",
    "        features.remove(label) # dont wanna split on label\n",
    "        \n",
    "        \n",
    "        best_split_feature=\"\" # the spliting feature,. \n",
    "        best_split_value = 0\n",
    "        best_gini_value=0  #the gini value for the best feature.\n",
    "        best_df_head=None  #the data frame belonging to x_i < c\n",
    "        best_df_tail=None  #the data frame belonging to x_i => c\n",
    "        \n",
    "        for feature in features:\n",
    "            \n",
    "            split_value, gini_value, df_head, df_tail = find_split_point(data, label, feature)\n",
    "            \n",
    "            if gini_value> best_gini_value:\n",
    "                best_split_feature=feature \n",
    "                best_split_value = split_value\n",
    "                best_gini_value=gini_value\n",
    "                best_df_head=df_head  \n",
    "                best_df_tail=df_tail  \n",
    "            \n",
    "        \n",
    "        \n",
    "        \n",
    "        # Step 2.5: Save the best split value and split_paramter and the two new data frames \n",
    "        # corresponding to the split [df_head, df_tail] (these will be data frames for the child nodes).  \n",
    "        \n",
    "        self.split_parameter = best_split_feature\n",
    "        self.split_value = best_split_value\n",
    "        \n",
    "        # Step 3: Calculate the majority vote classification of the two data frames. \n",
    "        \n",
    "        best_df_head_class = self.majority_vote(best_df_head[label])\n",
    "        best_df_tail_class = self.majority_vote(best_df_tail[label])\n",
    "        \n",
    "        \n",
    "        # Step 3.5: Create two child nodes, (eg child_0 = TreeNode(classification=1)) and and call the \n",
    "        # learn function with the corresponding data frame. \n",
    "        child_0 = TreeNode(classification = best_df_head_class)\n",
    "        child_0.learn(best_df_head, label, min_node_size)\n",
    "        child_1 = TreeNode(classification = best_df_tail_class)\n",
    "        child_1.learn(best_df_tail, label, min_node_size)\n",
    "        \n",
    "        # Step 4: append the the child node to the self.child_nodes. It should be in the order \n",
    "        # of the child node correspoinding to [df_head, df_tail].\n",
    "        \n",
    "        self.child_nodes.append(child_0)\n",
    "        self.child_nodes.append(child_1)\n",
    "        \n",
    "        return\n",
    "    \n",
    "    def majority_vote(self, pred_list):\n",
    "        # Here is a function that will return the majority vote from a list. \n",
    "        keys = list(Counter(pred_list).keys())\n",
    "        occurance = list(Counter(pred_list).values())\n",
    "        idx = np.argmax(occurance)\n",
    "        return keys[idx]"
   ]
  },
  {
   "cell_type": "markdown",
   "metadata": {},
   "source": [
    "##  Train the Tree"
   ]
  },
  {
   "cell_type": "code",
   "execution_count": 61,
   "metadata": {},
   "outputs": [
    {
     "data": {
      "text/html": [
       "\n",
       "                <audio  controls=\"controls\" autoplay=\"autoplay\">\n",
       "                    <source src=\"https://www.soundjay.com/buttons/beep-10.wav\" type=\"audio/wav\" />\n",
       "                    Your browser does not support the audio element.\n",
       "                </audio>\n",
       "              "
      ],
      "text/plain": [
       "<IPython.lib.display.Audio object>"
      ]
     },
     "metadata": {},
     "output_type": "display_data"
    },
    {
     "data": {
      "text/html": [
       "\n",
       "                <audio  controls=\"controls\" autoplay=\"autoplay\">\n",
       "                    <source src=\"https://www.soundjay.com/buttons/beep-10.wav\" type=\"audio/wav\" />\n",
       "                    Your browser does not support the audio element.\n",
       "                </audio>\n",
       "              "
      ],
      "text/plain": [
       "<IPython.lib.display.Audio object>"
      ]
     },
     "metadata": {},
     "output_type": "display_data"
    },
    {
     "data": {
      "text/html": [
       "\n",
       "                <audio  controls=\"controls\" autoplay=\"autoplay\">\n",
       "                    <source src=\"https://www.soundjay.com/buttons/beep-10.wav\" type=\"audio/wav\" />\n",
       "                    Your browser does not support the audio element.\n",
       "                </audio>\n",
       "              "
      ],
      "text/plain": [
       "<IPython.lib.display.Audio object>"
      ]
     },
     "metadata": {},
     "output_type": "display_data"
    },
    {
     "data": {
      "text/html": [
       "\n",
       "                <audio  controls=\"controls\" autoplay=\"autoplay\">\n",
       "                    <source src=\"https://www.soundjay.com/buttons/beep-10.wav\" type=\"audio/wav\" />\n",
       "                    Your browser does not support the audio element.\n",
       "                </audio>\n",
       "              "
      ],
      "text/plain": [
       "<IPython.lib.display.Audio object>"
      ]
     },
     "metadata": {},
     "output_type": "display_data"
    },
    {
     "data": {
      "text/html": [
       "\n",
       "                <audio  controls=\"controls\" autoplay=\"autoplay\">\n",
       "                    <source src=\"https://www.soundjay.com/buttons/beep-10.wav\" type=\"audio/wav\" />\n",
       "                    Your browser does not support the audio element.\n",
       "                </audio>\n",
       "              "
      ],
      "text/plain": [
       "<IPython.lib.display.Audio object>"
      ]
     },
     "metadata": {},
     "output_type": "display_data"
    },
    {
     "data": {
      "text/html": [
       "\n",
       "                <audio  controls=\"controls\" autoplay=\"autoplay\">\n",
       "                    <source src=\"https://www.soundjay.com/buttons/beep-10.wav\" type=\"audio/wav\" />\n",
       "                    Your browser does not support the audio element.\n",
       "                </audio>\n",
       "              "
      ],
      "text/plain": [
       "<IPython.lib.display.Audio object>"
      ]
     },
     "metadata": {},
     "output_type": "display_data"
    },
    {
     "data": {
      "text/html": [
       "\n",
       "                <audio  controls=\"controls\" autoplay=\"autoplay\">\n",
       "                    <source src=\"https://www.soundjay.com/buttons/beep-10.wav\" type=\"audio/wav\" />\n",
       "                    Your browser does not support the audio element.\n",
       "                </audio>\n",
       "              "
      ],
      "text/plain": [
       "<IPython.lib.display.Audio object>"
      ]
     },
     "metadata": {},
     "output_type": "display_data"
    },
    {
     "data": {
      "text/html": [
       "\n",
       "                <audio  controls=\"controls\" autoplay=\"autoplay\">\n",
       "                    <source src=\"https://www.soundjay.com/buttons/beep-10.wav\" type=\"audio/wav\" />\n",
       "                    Your browser does not support the audio element.\n",
       "                </audio>\n",
       "              "
      ],
      "text/plain": [
       "<IPython.lib.display.Audio object>"
      ]
     },
     "metadata": {},
     "output_type": "display_data"
    },
    {
     "data": {
      "text/html": [
       "\n",
       "                <audio  controls=\"controls\" autoplay=\"autoplay\">\n",
       "                    <source src=\"https://www.soundjay.com/buttons/beep-10.wav\" type=\"audio/wav\" />\n",
       "                    Your browser does not support the audio element.\n",
       "                </audio>\n",
       "              "
      ],
      "text/plain": [
       "<IPython.lib.display.Audio object>"
      ]
     },
     "metadata": {},
     "output_type": "display_data"
    },
    {
     "data": {
      "text/html": [
       "\n",
       "                <audio  controls=\"controls\" autoplay=\"autoplay\">\n",
       "                    <source src=\"https://www.soundjay.com/buttons/beep-10.wav\" type=\"audio/wav\" />\n",
       "                    Your browser does not support the audio element.\n",
       "                </audio>\n",
       "              "
      ],
      "text/plain": [
       "<IPython.lib.display.Audio object>"
      ]
     },
     "metadata": {},
     "output_type": "display_data"
    }
   ],
   "source": [
    "tree = TreeNode() # create root node\n",
    "# learn the tree structure\n",
    "\n",
    "tree.learn(train, \"copium\", min_node_size=1)\n",
    "\n",
    "for i in range(10):\n",
    "    from IPython.display import Audio, display\n",
    "    a= Audio(url='https://www.soundjay.com/buttons/beep-10.wav', autoplay=True)\n",
    "    display(a)\n",
    "    import time\n",
    "    time.sleep(0.5)\n",
    "\n"
   ]
  },
  {
   "cell_type": "markdown",
   "metadata": {},
   "source": [
    "## Test"
   ]
  },
  {
   "cell_type": "code",
   "execution_count": 62,
   "metadata": {},
   "outputs": [
    {
     "name": "stdout",
     "output_type": "stream",
     "text": [
      "accuarcy 0.9633\n",
      "precision 0.9333\n",
      "recall 1.0\n"
     ]
    }
   ],
   "source": [
    "y = test['copium']\n",
    "x = test.drop(columns='copium')\n",
    "log = Classification_eval()\n",
    "\n",
    "for i in range(x.shape[0]):\n",
    "    pred = tree.predict(x.iloc[i])\n",
    "    log.update(pred, y.iloc[i])\n",
    "        \n",
    "print('accuarcy', log.accuracy())\n",
    "print('precision', log.precision())\n",
    "print('recall', log.recall())"
   ]
  },
  {
   "cell_type": "markdown",
   "metadata": {},
   "source": [
    "## c) part 1\n",
    "\n",
    "Try some differnet values of min_node_size. How does these differ from the K-NN?\n",
    "\n",
    "Answer: The accuracy is better and the recall is better for min_node_size up to 20\n",
    "\n",
    "| min_node_size | Accuracy | Precision | Recall | \n",
    "| --- | --- | --- | --- |\n",
    "| 1  | 0.8793 | 0.6607 | 0.6491 |  \n",
    "| 10 | 0.8854 | 0.6667 | 0.7018 |   \n",
    "| 20 | 0.8947 | 0.6885 | 0.7368 |   \n",
    "| 50 | 0.8854 | 0.6562 | 0.7368 |   "
   ]
  },
  {
   "cell_type": "markdown",
   "metadata": {},
   "source": [
    "## c) part 2, Try with balanced data, do this later!\n",
    "\n",
    "Try some differnet values of min_node_size.\n",
    "\n",
    "Answer:\n",
    "\n",
    "| min_node_size | Accuracy | Precision | Recall | \n",
    "| --- | --- | --- | --- |\n",
    "| 1  | 0.9633 |0.9333 | 1.0 |  \n",
    "| 10 | 0.9578 |0.9327 | 0.9893 |   \n",
    "| 20 | 0.9321 |0.9293 | 0.9393 |   \n",
    "| 50 | 0.9138 |0.9299 | 0.9 | "
   ]
  },
  {
   "cell_type": "markdown",
   "metadata": {},
   "source": [
    "## Exersice 6: Deployment\n",
    "\n",
    "Here we will try the learned classifiers on a larger map. Make sure that the last run version of K-NN and tree have good parameters i.e. k and min_node_size values. \n"
   ]
  },
  {
   "cell_type": "code",
   "execution_count": null,
   "metadata": {},
   "outputs": [],
   "source": [
    "env = Environment(map_type=2, fps=5, resolution=(1000, 1000))\n",
    "\n",
    "sensor_properties = env.get_sensor_properties()\n",
    "sensor_sample = dict()\n",
    "for key in sensor_properties:\n",
    "    sensor_sample[key] = [0]\n",
    "\n",
    "log_knn = Classification_eval()\n",
    "log_tree = Classification_eval()\n",
    "\n",
    "    \n",
    "for i in range(500):\n",
    "    action = breadth_first_search(actor=env.get_actor(), max_depth=3, action_space=env.get_action_space())\n",
    "    env.step(action)\n",
    "    if env.get_sensor_readings() is not None:\n",
    "        sensor_readings = env.get_sensor_readings()\n",
    "        for key in sensor_readings:\n",
    "            sensor_sample[key][0] = sensor_readings[key]\n",
    "        sensor_sample_df = pd.DataFrame(sensor_sample)\n",
    "        log_knn.update(knn.predict(sensor_sample_df.iloc[0]), env.get_ground_truth())\n",
    "        log_tree.update(tree.predict(sensor_sample_df.iloc[0]), env.get_ground_truth())\n",
    "        env.plt_acc.update_acc(log_tree.accuracy(), log_knn.accuracy())\n",
    "    env.render()\n",
    "\n",
    "env.exit()\n",
    "\n",
    "from IPython.display import Audio, display\n",
    "a= Audio(url='https://www.soundjay.com/mechanical/bomb-falling-and-exploding-01.wav', autoplay=True)\n",
    "display(a)\n",
    "\n",
    "\n",
    "print(\"K-NN accuracy \", log_knn.accuracy(), \"Tree accuracy\", log_tree.accuracy())\n",
    "print(\"Number of copium deposits foun, K-NN:\", log_knn.TP, \" Tree:\", log_tree.TP)\n",
    "\n",
    "\n"
   ]
  },
  {
   "cell_type": "markdown",
   "metadata": {},
   "source": [
    "## Exersice 7: Balance data\n",
    "\n",
    "Go to 2 b) part 2 and balance the data, then do part 2 on the exersices that have it. Lastly run execise 6 with the classifers trained on ballanced data. What is the major difference?\n",
    "\n",
    "Answer: The tree accuracy is noticeably better\n",
    "\n",
    "| Balanced | Accuracy k-nn| nr found copium k-nn | Accuracy tree | nr found copium tree|  \n",
    "| --- | --- | --- | --- | --- |\n",
    "| NO | 0.8878 | 8 | 0.8673 | 11 | \n",
    "| YES |0.8925 | 9 | 0.8925 | 12 | "
   ]
  },
  {
   "cell_type": "code",
   "execution_count": null,
   "metadata": {},
   "outputs": [],
   "source": []
  }
 ],
 "metadata": {
  "kernelspec": {
   "display_name": "Python 3",
   "language": "python",
   "name": "python3"
  },
  "language_info": {
   "codemirror_mode": {
    "name": "ipython",
    "version": 3
   },
   "file_extension": ".py",
   "mimetype": "text/x-python",
   "name": "python",
   "nbconvert_exporter": "python",
   "pygments_lexer": "ipython3",
   "version": "3.8.5"
  }
 },
 "nbformat": 4,
 "nbformat_minor": 5
}
